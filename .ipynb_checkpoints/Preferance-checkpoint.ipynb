{
 "cells": [
  {
   "cell_type": "markdown",
   "metadata": {},
   "source": [
    "#Расчет пули\n",
    "\n",
    "\n",
    "- Гора каждого игрока умножается на 10 и делится на количество участников игры, включая и самого хозяина горы. \n",
    "- Частное от этого деления является проигрышем хозяина горы каждому игроку в отдельности и прибавляется к записям вистов на него всеми остальными игроками. Так поступают с каждой горой\n",
    "- потом сравнивают количество вистов, записанных каждым друг на друга. \n",
    "- Итоговый выигрыш, разумеется, должен равняться итоговому проигрышу, т.к. преферанс относится к играм с нулевым результатом, т.е. проигрыш одних равняется выигрышу других."
   ]
  },
  {
   "cell_type": "code",
   "execution_count": 1,
   "metadata": {
    "collapsed": true
   },
   "outputs": [],
   "source": [
    "from calc import Total, PointHolder"
   ]
  },
  {
   "cell_type": "code",
   "execution_count": 2,
   "metadata": {
    "collapsed": false,
    "scrolled": true
   },
   "outputs": [
    {
     "data": {
      "text/plain": [
       "[Decimal('-6'), Decimal('-20'), Decimal('16'), Decimal('10')]"
      ]
     },
     "execution_count": 2,
     "metadata": {},
     "output_type": "execute_result"
    }
   ],
   "source": [
    "score = (\n",
    "    {'points': 12, 'fine': 8, 'whists': [12, 4, 2]},\n",
    "    {'points': 6, 'fine': 4, 'whists': [4, 0, 24]},\n",
    "    {'points': 10, 'fine': 4, 'whists': [8, 0, 4]},\n",
    "    {'points': 4, 'fine': 0, 'whists': [0, 12, 8]},\n",
    ")\n",
    "\n",
    "total = Total([PointHolder(i + 1, **score[i]) for i in range(len(score))])\n",
    "total.calculate()\n"
   ]
  },
  {
   "cell_type": "code",
   "execution_count": 2,
   "metadata": {
    "collapsed": true
   },
   "outputs": [],
   "source": []
  }
 ],
 "metadata": {
  "kernelspec": {
   "display_name": "Python 3",
   "language": "python",
   "name": "python3"
  },
  "language_info": {
   "codemirror_mode": {
    "name": "ipython",
    "version": 3
   },
   "file_extension": ".py",
   "mimetype": "text/x-python",
   "name": "python",
   "nbconvert_exporter": "python",
   "pygments_lexer": "ipython3",
   "version": "3.4.2"
  }
 },
 "nbformat": 4,
 "nbformat_minor": 0
}
